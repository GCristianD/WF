{
 "cells": [
  {
   "cell_type": "code",
   "execution_count": 1,
   "metadata": {},
   "outputs": [],
   "source": [
    "import pandas as pd\n",
    "import numpy as np\n",
    "import matplotlib.pyplot as plt\n",
    "from sklearn.linear_model import LogisticRegression\n",
    "from sklearn.metrics import classification_report\n",
    "from sklearn.model_selection import StratifiedShuffleSplit\n",
    "from sklearn.model_selection import train_test_split, GridSearchCV\n",
    "from sklearn.decomposition import PCA\n",
    "from sklearn.metrics import classification_report, accuracy_score, confusion_matrix, roc_curve, auc\n",
    "from sklearn.pipeline import Pipeline\n",
    "from sklearn.preprocessing import StandardScaler\n",
    "import seaborn as sns\n",
    "from sklearn.ensemble import RandomForestClassifier"
   ]
  },
  {
   "cell_type": "code",
   "execution_count": 2,
   "metadata": {},
   "outputs": [],
   "source": [
    "df = pd.read_csv('Clean.csv')"
   ]
  },
  {
   "cell_type": "code",
   "execution_count": 443,
   "metadata": {},
   "outputs": [],
   "source": [
    "# df_shuffled=df.sample(frac=1)\n",
    "# train=df_shuffled.iloc[0:70000,:]\n",
    "# validation=df_shuffled.iloc[70000:85000,:]\n",
    "# test=df_shuffled.iloc[85000:100000,:]"
   ]
  },
  {
   "cell_type": "code",
   "execution_count": 3,
   "metadata": {},
   "outputs": [],
   "source": [
    "df = df.drop('Unnamed: 0', axis=1)\n",
    "#df.head()"
   ]
  },
  {
   "cell_type": "code",
   "execution_count": 4,
   "metadata": {},
   "outputs": [],
   "source": [
    "X = df.drop(['is_fraud'], axis=1)\n",
    "y = df['is_fraud']"
   ]
  },
  {
   "cell_type": "code",
   "execution_count": 446,
   "metadata": {},
   "outputs": [],
   "source": [
    "# def normalize(X):\n",
    "#     for feature in X.columns:\n",
    "#         X[feature] -= X[feature].mean()\n",
    "#         X[feature] /= X[feature].std()\n",
    "#     return X"
   ]
  },
  {
   "cell_type": "code",
   "execution_count": 5,
   "metadata": {},
   "outputs": [],
   "source": [
    "model = LogisticRegression(class_weight='balanced')\n",
    "#model = RandomForestClassifier(n_estimators=100)\n",
    "splitter = StratifiedShuffleSplit(n_splits=1, test_size=0.2, random_state=0)"
   ]
  },
  {
   "cell_type": "code",
   "execution_count": 6,
   "metadata": {},
   "outputs": [
    {
     "name": "stderr",
     "output_type": "stream",
     "text": [
      "/opt/anaconda3/lib/python3.7/site-packages/sklearn/linear_model/logistic.py:432: FutureWarning: Default solver will be changed to 'lbfgs' in 0.22. Specify a solver to silence this warning.\n",
      "  FutureWarning)\n"
     ]
    },
    {
     "data": {
      "image/png": "[encoded data removed]",
      "text/plain": [
       "<Figure size 432x288 with 1 Axes>"
      ]
     },
     "metadata": {
      "needs_background": "light"
     },
     "output_type": "display_data"
    },
    {
     "name": "stdout",
     "output_type": "stream",
     "text": [
      "              precision    recall  f1-score   support\n",
      "\n",
      "         0.0       0.99      0.88      0.93     19000\n",
      "         1.0       0.27      0.85      0.42      1000\n",
      "\n",
      "    accuracy                           0.88     20000\n",
      "   macro avg       0.63      0.87      0.67     20000\n",
      "weighted avg       0.96      0.88      0.91     20000\n",
      "\n",
      "[[16741  2259]\n",
      " [  146   854]]\n"
     ]
    }
   ],
   "source": [
    "#X = StandardScaler().fit_transform(X)\n",
    "\n",
    "X = X.drop(['is_ip_blacklisted','is_email_blacklisted'], axis=1)\n",
    "\n",
    "#X = X['age_of_account'].to_frame()\n",
    "\n",
    "for train_indices, test_indices in splitter.split(X, y):\n",
    "    X_train, y_train = X.iloc[train_indices], y.iloc[train_indices]\n",
    "    X_test, y_test = X.iloc[test_indices], y.iloc[test_indices]\n",
    "    \n",
    "    X_train = StandardScaler().fit_transform(X_train)\n",
    "    X_test = StandardScaler().fit_transform(X_test)\n",
    "    \n",
    "    clf = model.fit(X_train, y_train)\n",
    "    y_pred = model.predict(X_test)\n",
    "    y_pred_prob = model.predict_proba(X_test)\n",
    "    \n",
    "    fpr, recall, th = roc_curve(y_test, y_pred)\n",
    "    roc_auc = auc(fpr, recall)\n",
    "    plt.title('ROC Curve')\n",
    "    plt.plot(fpr,recall, 'b', label='AUC=%0.2f' %roc_auc)\n",
    "    plt.legend(loc='lower right')\n",
    "    plt.plot([0,1], [0,1], 'r--')\n",
    "    plt.xlim([0.0, 1.0])\n",
    "    plt.ylim([0.0, 1.0])\n",
    "    plt.ylabel('Recall')\n",
    "    plt.xlabel('False Positive')\n",
    "    plt.show()\n",
    "    \n",
    "    \n",
    "#     xx, yy = np.mgrid[-5:5:.01, -5:5:.01]\n",
    "#     grid = np.c_[xx.ravel(), yy.ravel()]\n",
    "#     probs = clf.predict_proba(grid)[:, 1].reshape(xx.shape)\n",
    "    \n",
    "#     f, ax = plt.subplots(figsize=(8, 6))\n",
    "#     ax.contour(xx, yy, probs, levels=[.5], cmap=\"Greys\", vmin=0, vmax=.6)\n",
    "\n",
    "#     ax.scatter(X[100:,0], X[100:, 1], c=y[100:], s=50, cmap=\"RdBu\", vmin=-.2, vmax=1.2, edgecolor=\"white\", linewidth=1)\n",
    "\n",
    "#     ax.set(aspect=\"equal\", xlim=(-5, 5), ylim=(-5, 5), xlabel=\"$X_1$\", ylabel=\"$X_2$\")\n",
    "    \n",
    "    print(classification_report(y_test, y_pred))\n",
    "    print(confusion_matrix(y_test, y_pred))"
   ]
  },
  {
   "cell_type": "code",
   "execution_count": 7,
   "metadata": {},
   "outputs": [
    {
     "data": {
      "text/plain": [
       "array([[0.96553707, 0.03446293],\n",
       "       [0.57445477, 0.42554523],\n",
       "       [0.75721474, 0.24278526],\n",
       "       ...,\n",
       "       [0.61845363, 0.38154637],\n",
       "       [0.95007636, 0.04992364],\n",
       "       [0.97729319, 0.02270681]])"
      ]
     },
     "execution_count": 7,
     "metadata": {},
     "output_type": "execute_result"
    }
   ],
   "source": [
    "y_pred_prob"
   ]
  },
  {
   "cell_type": "code",
   "execution_count": 8,
   "metadata": {},
   "outputs": [
    {
     "data": {
      "text/plain": [
       "array([0.03446293, 0.42554523, 0.24278526, ..., 0.38154637, 0.04992364,\n",
       "       0.02270681])"
      ]
     },
     "execution_count": 8,
     "metadata": {},
     "output_type": "execute_result"
    }
   ],
   "source": [
    "y_fraud_prob = y_pred_prob[:,1]\n",
    "y_fraud_prob"
   ]
  },
  {
   "cell_type": "code",
   "execution_count": 9,
   "metadata": {},
   "outputs": [
    {
     "data": {
      "text/plain": [
       "3113"
      ]
     },
     "execution_count": 9,
     "metadata": {},
     "output_type": "execute_result"
    }
   ],
   "source": [
    "(y_fraud_prob >0.5).sum()"
   ]
  },
  {
   "cell_type": "code",
   "execution_count": 10,
   "metadata": {},
   "outputs": [],
   "source": [
    "#pd.options.display.max_columns = None"
   ]
  },
  {
   "cell_type": "code",
   "execution_count": 14,
   "metadata": {},
   "outputs": [],
   "source": [
    "#corr_matrix = df.corr()"
   ]
  },
  {
   "cell_type": "code",
   "execution_count": 12,
   "metadata": {},
   "outputs": [],
   "source": [
    "\n",
    "#sns.pairplot(df[['is_ip_blacklisted','is_email_blacklisted', 'is_email_domain_blacklisted', 'is_fraud']])\n",
    "\n",
    "# corr_matrix_sorted = corr_matrix.sort_values(['is_ip_blacklisted'], ascending=False)\n",
    "# corr_matrix_sorted"
   ]
  },
  {
   "cell_type": "code",
   "execution_count": 15,
   "metadata": {},
   "outputs": [
    {
     "data": {
      "text/plain": [
       "<matplotlib.axes._subplots.AxesSubplot at 0x110381a50>"
      ]
     },
     "execution_count": 15,
     "metadata": {},
     "output_type": "execute_result"
    },
    {
     "data": {
      "image/png": "[encoded data removed]",
      "text/plain": [
       "<Figure size 432x288 with 1 Axes>"
      ]
     },
     "metadata": {
      "needs_background": "light"
     },
     "output_type": "display_data"
    }
   ],
   "source": [
    "sns.regplot(x=\"percent_of_billing_name_in_email\", y=\"percent_of_shipping_names_in_email\", data=corr_matrix)"
   ]
  },
  {
   "cell_type": "code",
   "execution_count": 338,
   "metadata": {},
   "outputs": [
    {
     "data": {
      "text/plain": [
       "<seaborn.axisgrid.PairGrid at 0x1a3dd4e390>"
      ]
     },
     "execution_count": 338,
     "metadata": {},
     "output_type": "execute_result"
    },
    {
     "data": {
      "image/png": "[encoded data removed]",
      "text/plain": [
       "<matplotlib.figure.Figure at 0x1a3dd4e400>"
      ]
     },
     "metadata": {},
     "output_type": "display_data"
    }
   ],
   "source": [
    "sns.pairplot(corr_matrix[['ip_location_not_found', 'customers_with_same_ip_past_six_months', 'customers_with_same_ip_past_month','customers_with_same_ip_past_week', 'customers_with_same_ip_past_day', 'customers_with_same_ip_past_hour' ]])"
   ]
  },
  {
   "cell_type": "markdown",
   "metadata": {},
   "source": [
    "## Compute the Fraud Dollars"
   ]
  },
  {
   "cell_type": "code",
   "execution_count": 16,
   "metadata": {},
   "outputs": [],
   "source": [
    "ot = df.iloc[y_test.index]['order_total']"
   ]
  },
  {
   "cell_type": "code",
   "execution_count": 17,
   "metadata": {},
   "outputs": [],
   "source": [
    "df2 = pd.concat([ot, y_test], axis=1)\n",
    "df2 = df2.reset_index(drop=True)\n",
    "#df2.head()"
   ]
  },
  {
   "cell_type": "code",
   "execution_count": 18,
   "metadata": {},
   "outputs": [],
   "source": [
    "#p = pd.Series(y_pred)\n",
    "p = pd.Series(y_fraud_prob)"
   ]
  },
  {
   "cell_type": "code",
   "execution_count": 19,
   "metadata": {},
   "outputs": [],
   "source": [
    "df3 = pd.concat([df2, p], axis=1)"
   ]
  },
  {
   "cell_type": "code",
   "execution_count": 20,
   "metadata": {},
   "outputs": [],
   "source": [
    "df3.rename(columns = {'is_fraud':'y_true', 0:'fraud likelihood'}, inplace=True)\n",
    "#df3.head()"
   ]
  },
  {
   "cell_type": "code",
   "execution_count": 21,
   "metadata": {},
   "outputs": [
    {
     "data": {
      "text/html": [
       "<div>\n",
       "<style scoped>\n",
       "    .dataframe tbody tr th:only-of-type {\n",
       "        vertical-align: middle;\n",
       "    }\n",
       "\n",
       "    .dataframe tbody tr th {\n",
       "        vertical-align: top;\n",
       "    }\n",
       "\n",
       "    .dataframe thead th {\n",
       "        text-align: right;\n",
       "    }\n",
       "</style>\n",
       "<table border=\"1\" class=\"dataframe\">\n",
       "  <thead>\n",
       "    <tr style=\"text-align: right;\">\n",
       "      <th></th>\n",
       "      <th>order_total</th>\n",
       "      <th>y_true</th>\n",
       "      <th>fraud likelihood</th>\n",
       "    </tr>\n",
       "  </thead>\n",
       "  <tbody>\n",
       "    <tr>\n",
       "      <td>0</td>\n",
       "      <td>228.85</td>\n",
       "      <td>0.0</td>\n",
       "      <td>0.034463</td>\n",
       "    </tr>\n",
       "    <tr>\n",
       "      <td>1</td>\n",
       "      <td>123.09</td>\n",
       "      <td>0.0</td>\n",
       "      <td>0.425545</td>\n",
       "    </tr>\n",
       "    <tr>\n",
       "      <td>2</td>\n",
       "      <td>287.96</td>\n",
       "      <td>0.0</td>\n",
       "      <td>0.242785</td>\n",
       "    </tr>\n",
       "    <tr>\n",
       "      <td>3</td>\n",
       "      <td>111.93</td>\n",
       "      <td>0.0</td>\n",
       "      <td>0.447240</td>\n",
       "    </tr>\n",
       "    <tr>\n",
       "      <td>4</td>\n",
       "      <td>80.38</td>\n",
       "      <td>0.0</td>\n",
       "      <td>0.084269</td>\n",
       "    </tr>\n",
       "  </tbody>\n",
       "</table>\n",
       "</div>"
      ],
      "text/plain": [
       "   order_total  y_true  fraud likelihood\n",
       "0       228.85     0.0          0.034463\n",
       "1       123.09     0.0          0.425545\n",
       "2       287.96     0.0          0.242785\n",
       "3       111.93     0.0          0.447240\n",
       "4        80.38     0.0          0.084269"
      ]
     },
     "execution_count": 21,
     "metadata": {},
     "output_type": "execute_result"
    }
   ],
   "source": [
    "df3.head()"
   ]
  },
  {
   "cell_type": "code",
   "execution_count": 22,
   "metadata": {},
   "outputs": [],
   "source": [
    "df3['dollar scaled likelihood'] = df3['fraud likelihood'] * df3['order_total']"
   ]
  },
  {
   "cell_type": "code",
   "execution_count": 23,
   "metadata": {},
   "outputs": [
    {
     "data": {
      "text/html": [
       "<div>\n",
       "<style scoped>\n",
       "    .dataframe tbody tr th:only-of-type {\n",
       "        vertical-align: middle;\n",
       "    }\n",
       "\n",
       "    .dataframe tbody tr th {\n",
       "        vertical-align: top;\n",
       "    }\n",
       "\n",
       "    .dataframe thead th {\n",
       "        text-align: right;\n",
       "    }\n",
       "</style>\n",
       "<table border=\"1\" class=\"dataframe\">\n",
       "  <thead>\n",
       "    <tr style=\"text-align: right;\">\n",
       "      <th></th>\n",
       "      <th>order_total</th>\n",
       "      <th>y_true</th>\n",
       "      <th>fraud likelihood</th>\n",
       "      <th>dollar scaled likelihood</th>\n",
       "    </tr>\n",
       "  </thead>\n",
       "  <tbody>\n",
       "    <tr>\n",
       "      <td>71</td>\n",
       "      <td>2847.95</td>\n",
       "      <td>1.0</td>\n",
       "      <td>1.0</td>\n",
       "      <td>2847.95</td>\n",
       "    </tr>\n",
       "    <tr>\n",
       "      <td>2081</td>\n",
       "      <td>2847.95</td>\n",
       "      <td>1.0</td>\n",
       "      <td>1.0</td>\n",
       "      <td>2847.95</td>\n",
       "    </tr>\n",
       "    <tr>\n",
       "      <td>5218</td>\n",
       "      <td>2847.95</td>\n",
       "      <td>1.0</td>\n",
       "      <td>1.0</td>\n",
       "      <td>2847.95</td>\n",
       "    </tr>\n",
       "    <tr>\n",
       "      <td>6280</td>\n",
       "      <td>2847.95</td>\n",
       "      <td>1.0</td>\n",
       "      <td>1.0</td>\n",
       "      <td>2847.95</td>\n",
       "    </tr>\n",
       "    <tr>\n",
       "      <td>18620</td>\n",
       "      <td>2847.95</td>\n",
       "      <td>1.0</td>\n",
       "      <td>1.0</td>\n",
       "      <td>2847.95</td>\n",
       "    </tr>\n",
       "    <tr>\n",
       "      <td>11032</td>\n",
       "      <td>1139.96</td>\n",
       "      <td>0.0</td>\n",
       "      <td>1.0</td>\n",
       "      <td>1139.96</td>\n",
       "    </tr>\n",
       "    <tr>\n",
       "      <td>2938</td>\n",
       "      <td>1070.98</td>\n",
       "      <td>1.0</td>\n",
       "      <td>1.0</td>\n",
       "      <td>1070.98</td>\n",
       "    </tr>\n",
       "    <tr>\n",
       "      <td>4678</td>\n",
       "      <td>1070.98</td>\n",
       "      <td>1.0</td>\n",
       "      <td>1.0</td>\n",
       "      <td>1070.98</td>\n",
       "    </tr>\n",
       "    <tr>\n",
       "      <td>4761</td>\n",
       "      <td>1070.98</td>\n",
       "      <td>1.0</td>\n",
       "      <td>1.0</td>\n",
       "      <td>1070.98</td>\n",
       "    </tr>\n",
       "    <tr>\n",
       "      <td>4868</td>\n",
       "      <td>1070.98</td>\n",
       "      <td>1.0</td>\n",
       "      <td>1.0</td>\n",
       "      <td>1070.98</td>\n",
       "    </tr>\n",
       "    <tr>\n",
       "      <td>6674</td>\n",
       "      <td>1070.98</td>\n",
       "      <td>1.0</td>\n",
       "      <td>1.0</td>\n",
       "      <td>1070.98</td>\n",
       "    </tr>\n",
       "    <tr>\n",
       "      <td>12065</td>\n",
       "      <td>1070.98</td>\n",
       "      <td>1.0</td>\n",
       "      <td>1.0</td>\n",
       "      <td>1070.98</td>\n",
       "    </tr>\n",
       "    <tr>\n",
       "      <td>13146</td>\n",
       "      <td>1070.98</td>\n",
       "      <td>1.0</td>\n",
       "      <td>1.0</td>\n",
       "      <td>1070.98</td>\n",
       "    </tr>\n",
       "    <tr>\n",
       "      <td>13920</td>\n",
       "      <td>852.94</td>\n",
       "      <td>0.0</td>\n",
       "      <td>1.0</td>\n",
       "      <td>852.94</td>\n",
       "    </tr>\n",
       "    <tr>\n",
       "      <td>11805</td>\n",
       "      <td>738.45</td>\n",
       "      <td>0.0</td>\n",
       "      <td>1.0</td>\n",
       "      <td>738.45</td>\n",
       "    </tr>\n",
       "  </tbody>\n",
       "</table>\n",
       "</div>"
      ],
      "text/plain": [
       "       order_total  y_true  fraud likelihood  dollar scaled likelihood\n",
       "71         2847.95     1.0               1.0                   2847.95\n",
       "2081       2847.95     1.0               1.0                   2847.95\n",
       "5218       2847.95     1.0               1.0                   2847.95\n",
       "6280       2847.95     1.0               1.0                   2847.95\n",
       "18620      2847.95     1.0               1.0                   2847.95\n",
       "11032      1139.96     0.0               1.0                   1139.96\n",
       "2938       1070.98     1.0               1.0                   1070.98\n",
       "4678       1070.98     1.0               1.0                   1070.98\n",
       "4761       1070.98     1.0               1.0                   1070.98\n",
       "4868       1070.98     1.0               1.0                   1070.98\n",
       "6674       1070.98     1.0               1.0                   1070.98\n",
       "12065      1070.98     1.0               1.0                   1070.98\n",
       "13146      1070.98     1.0               1.0                   1070.98\n",
       "13920       852.94     0.0               1.0                    852.94\n",
       "11805       738.45     0.0               1.0                    738.45"
      ]
     },
     "execution_count": 23,
     "metadata": {},
     "output_type": "execute_result"
    }
   ],
   "source": [
    "#df3.sort_values('dollar scaled likelihood', ascending=False).head(15)\n",
    "df3.sort_values(['fraud likelihood', 'order_total'], ascending=False).head(15)"
   ]
  },
  {
   "cell_type": "code",
   "execution_count": 24,
   "metadata": {},
   "outputs": [
    {
     "data": {
      "text/plain": [
       "(500, 4)"
      ]
     },
     "execution_count": 24,
     "metadata": {},
     "output_type": "execute_result"
    }
   ],
   "source": [
    "# Find the first 500\n",
    "df_500 = df3[:500]\n",
    "df_500.shape"
   ]
  },
  {
   "cell_type": "code",
   "execution_count": 25,
   "metadata": {},
   "outputs": [
    {
     "name": "stdout",
     "output_type": "stream",
     "text": [
      "Total fraud dollars in the test set: 722150.8111999999\n"
     ]
    }
   ],
   "source": [
    "df3_fraud_dollars = df3.query('y_true==1')\n",
    "print('Total fraud dollars in the test set:', df3_fraud_dollars['order_total'].sum())"
   ]
  },
  {
   "cell_type": "code",
   "execution_count": 26,
   "metadata": {},
   "outputs": [
    {
     "name": "stdout",
     "output_type": "stream",
     "text": [
      "Total fraud dollars in the predicted set: 129472.0324\n"
     ]
    }
   ],
   "source": [
    "#df3_fraud_dollars_pred = df3_fraud_dollars.query('fraud likelihood > 0.5')\n",
    "print('Total fraud dollars in the predicted set:', df_500['order_total'].sum())"
   ]
  },
  {
   "cell_type": "code",
   "execution_count": 27,
   "metadata": {},
   "outputs": [
    {
     "name": "stdout",
     "output_type": "stream",
     "text": [
      "Fraud dollar percentage: 0.17928669523316879\n"
     ]
    }
   ],
   "source": [
    "print('Fraud dollar percentage:',  df_500['order_total'].sum() / df3_fraud_dollars['order_total'].sum())"
   ]
  },
  {
   "cell_type": "markdown",
   "metadata": {},
   "source": [
    "## Fix overfitting"
   ]
  },
  {
   "cell_type": "code",
   "execution_count": 28,
   "metadata": {},
   "outputs": [],
   "source": [
    "x = StandardScaler().fit_transform(X)\n",
    "\n",
    "pca = PCA(n_components=60)\n",
    "principalComponents = pca.fit_transform(x)\n",
    "principalDf = pd.DataFrame(data = principalComponents)"
   ]
  },
  {
   "cell_type": "code",
   "execution_count": 29,
   "metadata": {},
   "outputs": [
    {
     "data": {
      "text/html": [
       "<div>\n",
       "<style scoped>\n",
       "    .dataframe tbody tr th:only-of-type {\n",
       "        vertical-align: middle;\n",
       "    }\n",
       "\n",
       "    .dataframe tbody tr th {\n",
       "        vertical-align: top;\n",
       "    }\n",
       "\n",
       "    .dataframe thead th {\n",
       "        text-align: right;\n",
       "    }\n",
       "</style>\n",
       "<table border=\"1\" class=\"dataframe\">\n",
       "  <thead>\n",
       "    <tr style=\"text-align: right;\">\n",
       "      <th></th>\n",
       "      <th>0</th>\n",
       "      <th>1</th>\n",
       "      <th>2</th>\n",
       "      <th>3</th>\n",
       "      <th>4</th>\n",
       "      <th>5</th>\n",
       "      <th>6</th>\n",
       "      <th>7</th>\n",
       "      <th>8</th>\n",
       "      <th>9</th>\n",
       "      <th>...</th>\n",
       "      <th>50</th>\n",
       "      <th>51</th>\n",
       "      <th>52</th>\n",
       "      <th>53</th>\n",
       "      <th>54</th>\n",
       "      <th>55</th>\n",
       "      <th>56</th>\n",
       "      <th>57</th>\n",
       "      <th>58</th>\n",
       "      <th>59</th>\n",
       "    </tr>\n",
       "  </thead>\n",
       "  <tbody>\n",
       "    <tr>\n",
       "      <td>0</td>\n",
       "      <td>1.272382</td>\n",
       "      <td>0.519340</td>\n",
       "      <td>0.068457</td>\n",
       "      <td>-2.738353</td>\n",
       "      <td>0.917642</td>\n",
       "      <td>0.619840</td>\n",
       "      <td>0.114834</td>\n",
       "      <td>-4.537337</td>\n",
       "      <td>-1.151121</td>\n",
       "      <td>0.181173</td>\n",
       "      <td>...</td>\n",
       "      <td>0.766693</td>\n",
       "      <td>0.214574</td>\n",
       "      <td>-1.364711</td>\n",
       "      <td>-1.257942</td>\n",
       "      <td>1.337424</td>\n",
       "      <td>0.375474</td>\n",
       "      <td>0.115140</td>\n",
       "      <td>-0.236642</td>\n",
       "      <td>-0.240237</td>\n",
       "      <td>-1.255482</td>\n",
       "    </tr>\n",
       "    <tr>\n",
       "      <td>1</td>\n",
       "      <td>0.021713</td>\n",
       "      <td>-0.498985</td>\n",
       "      <td>-0.550906</td>\n",
       "      <td>-1.011460</td>\n",
       "      <td>0.998148</td>\n",
       "      <td>1.113342</td>\n",
       "      <td>-0.577947</td>\n",
       "      <td>-1.915158</td>\n",
       "      <td>-0.693523</td>\n",
       "      <td>0.037412</td>\n",
       "      <td>...</td>\n",
       "      <td>0.878620</td>\n",
       "      <td>-1.072501</td>\n",
       "      <td>-0.485919</td>\n",
       "      <td>0.294557</td>\n",
       "      <td>0.878049</td>\n",
       "      <td>0.032836</td>\n",
       "      <td>0.204309</td>\n",
       "      <td>0.187467</td>\n",
       "      <td>-0.129196</td>\n",
       "      <td>0.035018</td>\n",
       "    </tr>\n",
       "    <tr>\n",
       "      <td>2</td>\n",
       "      <td>-0.169777</td>\n",
       "      <td>-0.678950</td>\n",
       "      <td>-0.991924</td>\n",
       "      <td>1.192751</td>\n",
       "      <td>0.351735</td>\n",
       "      <td>0.369348</td>\n",
       "      <td>-0.516997</td>\n",
       "      <td>-1.055702</td>\n",
       "      <td>-0.798044</td>\n",
       "      <td>-0.923247</td>\n",
       "      <td>...</td>\n",
       "      <td>0.114667</td>\n",
       "      <td>-1.285689</td>\n",
       "      <td>0.595285</td>\n",
       "      <td>1.202133</td>\n",
       "      <td>0.569549</td>\n",
       "      <td>0.346057</td>\n",
       "      <td>0.197456</td>\n",
       "      <td>-0.293010</td>\n",
       "      <td>0.182100</td>\n",
       "      <td>0.155075</td>\n",
       "    </tr>\n",
       "    <tr>\n",
       "      <td>3</td>\n",
       "      <td>-0.243002</td>\n",
       "      <td>0.184461</td>\n",
       "      <td>-0.568722</td>\n",
       "      <td>-0.103476</td>\n",
       "      <td>-1.315067</td>\n",
       "      <td>1.111044</td>\n",
       "      <td>-0.507428</td>\n",
       "      <td>-1.607024</td>\n",
       "      <td>-0.193168</td>\n",
       "      <td>0.072521</td>\n",
       "      <td>...</td>\n",
       "      <td>-0.481231</td>\n",
       "      <td>0.360991</td>\n",
       "      <td>-1.266876</td>\n",
       "      <td>0.375901</td>\n",
       "      <td>-0.243324</td>\n",
       "      <td>0.333722</td>\n",
       "      <td>-0.496503</td>\n",
       "      <td>-2.293371</td>\n",
       "      <td>-1.697572</td>\n",
       "      <td>4.737938</td>\n",
       "    </tr>\n",
       "    <tr>\n",
       "      <td>4</td>\n",
       "      <td>-0.183352</td>\n",
       "      <td>0.347678</td>\n",
       "      <td>0.050620</td>\n",
       "      <td>0.114145</td>\n",
       "      <td>1.280783</td>\n",
       "      <td>-0.035360</td>\n",
       "      <td>0.589257</td>\n",
       "      <td>-2.088211</td>\n",
       "      <td>-2.278141</td>\n",
       "      <td>-1.533858</td>\n",
       "      <td>...</td>\n",
       "      <td>-0.095374</td>\n",
       "      <td>0.095402</td>\n",
       "      <td>0.467899</td>\n",
       "      <td>0.548661</td>\n",
       "      <td>-0.472891</td>\n",
       "      <td>-0.047936</td>\n",
       "      <td>-0.965672</td>\n",
       "      <td>0.210206</td>\n",
       "      <td>0.238961</td>\n",
       "      <td>0.296078</td>\n",
       "    </tr>\n",
       "  </tbody>\n",
       "</table>\n",
       "<p>5 rows × 60 columns</p>\n",
       "</div>"
      ],
      "text/plain": [
       "         0         1         2         3         4         5         6   \\\n",
       "0  1.272382  0.519340  0.068457 -2.738353  0.917642  0.619840  0.114834   \n",
       "1  0.021713 -0.498985 -0.550906 -1.011460  0.998148  1.113342 -0.577947   \n",
       "2 -0.169777 -0.678950 -0.991924  1.192751  0.351735  0.369348 -0.516997   \n",
       "3 -0.243002  0.184461 -0.568722 -0.103476 -1.315067  1.111044 -0.507428   \n",
       "4 -0.183352  0.347678  0.050620  0.114145  1.280783 -0.035360  0.589257   \n",
       "\n",
       "         7         8         9   ...        50        51        52        53  \\\n",
       "0 -4.537337 -1.151121  0.181173  ...  0.766693  0.214574 -1.364711 -1.257942   \n",
       "1 -1.915158 -0.693523  0.037412  ...  0.878620 -1.072501 -0.485919  0.294557   \n",
       "2 -1.055702 -0.798044 -0.923247  ...  0.114667 -1.285689  0.595285  1.202133   \n",
       "3 -1.607024 -0.193168  0.072521  ... -0.481231  0.360991 -1.266876  0.375901   \n",
       "4 -2.088211 -2.278141 -1.533858  ... -0.095374  0.095402  0.467899  0.548661   \n",
       "\n",
       "         54        55        56        57        58        59  \n",
       "0  1.337424  0.375474  0.115140 -0.236642 -0.240237 -1.255482  \n",
       "1  0.878049  0.032836  0.204309  0.187467 -0.129196  0.035018  \n",
       "2  0.569549  0.346057  0.197456 -0.293010  0.182100  0.155075  \n",
       "3 -0.243324  0.333722 -0.496503 -2.293371 -1.697572  4.737938  \n",
       "4 -0.472891 -0.047936 -0.965672  0.210206  0.238961  0.296078  \n",
       "\n",
       "[5 rows x 60 columns]"
      ]
     },
     "execution_count": 29,
     "metadata": {},
     "output_type": "execute_result"
    }
   ],
   "source": [
    "principalDf.head()"
   ]
  },
  {
   "cell_type": "code",
   "execution_count": 30,
   "metadata": {},
   "outputs": [
    {
     "data": {
      "text/plain": [
       "0.9262320960026128"
      ]
     },
     "execution_count": 30,
     "metadata": {},
     "output_type": "execute_result"
    }
   ],
   "source": [
    "pca.explained_variance_ratio_.sum()"
   ]
  },
  {
   "cell_type": "code",
   "execution_count": 31,
   "metadata": {},
   "outputs": [],
   "source": [
    "model = LogisticRegression(class_weight='balanced')\n",
    "#model = RandomForestClassifier(n_estimators=100)\n",
    "splitter = StratifiedShuffleSplit(n_splits=1, test_size=0.2, random_state=0)"
   ]
  },
  {
   "cell_type": "code",
   "execution_count": 32,
   "metadata": {},
   "outputs": [
    {
     "name": "stderr",
     "output_type": "stream",
     "text": [
      "/opt/anaconda3/lib/python3.7/site-packages/sklearn/linear_model/logistic.py:432: FutureWarning: Default solver will be changed to 'lbfgs' in 0.22. Specify a solver to silence this warning.\n",
      "  FutureWarning)\n"
     ]
    },
    {
     "data": {
      "image/png": "[encoded data removed]",
      "text/plain": [
       "<Figure size 432x288 with 1 Axes>"
      ]
     },
     "metadata": {
      "needs_background": "light"
     },
     "output_type": "display_data"
    },
    {
     "name": "stdout",
     "output_type": "stream",
     "text": [
      "              precision    recall  f1-score   support\n",
      "\n",
      "         0.0       0.99      0.89      0.94     19000\n",
      "         1.0       0.29      0.84      0.43      1000\n",
      "\n",
      "    accuracy                           0.89     20000\n",
      "   macro avg       0.64      0.87      0.68     20000\n",
      "weighted avg       0.96      0.89      0.91     20000\n",
      "\n",
      "[[16885  2115]\n",
      " [  156   844]]\n"
     ]
    }
   ],
   "source": [
    "for train_indices, test_indices in splitter.split(principalDf, y):\n",
    "    X_train, y_train = principalDf.iloc[train_indices], y.iloc[train_indices]\n",
    "    X_test, y_test = principalDf.iloc[test_indices], y.iloc[test_indices]\n",
    "    \n",
    "#     X_train = StandardScaler().fit_transform(X_train)\n",
    "#     X_test = StandardScaler().fit_transform(X_test)\n",
    "    \n",
    "    model.fit(X_train, y_train)\n",
    "    y_pred = model.predict(X_test)\n",
    "    \n",
    "    fpr, recall, th = roc_curve(y_test, y_pred)\n",
    "    roc_auc = auc(fpr, recall)\n",
    "    plt.title('ROC Curve')\n",
    "    plt.plot(fpr,recall, 'b', label='AUC=%0.2f' %roc_auc)\n",
    "    plt.legend(loc='lower right')\n",
    "    plt.plot([0,1], [0,1], 'r--')\n",
    "    plt.xlim([0.0, 1.0])\n",
    "    plt.ylim([0.0, 1.0])\n",
    "    plt.ylabel('Recall')\n",
    "    plt.xlabel('False Positive')\n",
    "    plt.show()\n",
    "    \n",
    "    print(classification_report(y_test, y_pred))\n",
    "    print(confusion_matrix(y_test, y_pred))"
   ]
  },
  {
   "cell_type": "code",
   "execution_count": 33,
   "metadata": {},
   "outputs": [
    {
     "name": "stderr",
     "output_type": "stream",
     "text": [
      "/opt/anaconda3/lib/python3.7/site-packages/sklearn/model_selection/_split.py:1978: FutureWarning: The default value of cv will change from 3 to 5 in version 0.22. Specify it explicitly to silence this warning.\n",
      "  warnings.warn(CV_WARNING, FutureWarning)\n",
      "/opt/anaconda3/lib/python3.7/site-packages/sklearn/linear_model/logistic.py:432: FutureWarning: Default solver will be changed to 'lbfgs' in 0.22. Specify a solver to silence this warning.\n",
      "  FutureWarning)\n"
     ]
    },
    {
     "name": "stdout",
     "output_type": "stream",
     "text": [
      "Best score: 0.553\n",
      "Best parameter set:\n",
      "\tclf__C: 0.1\n",
      "\tclf__penalty: 'l2'\n",
      "              precision    recall  f1-score   support\n",
      "\n",
      "         0.0       0.97      0.99      0.98     47493\n",
      "         1.0       0.77      0.44      0.56      2507\n",
      "\n",
      "    accuracy                           0.97     50000\n",
      "   macro avg       0.87      0.72      0.77     50000\n",
      "weighted avg       0.96      0.97      0.96     50000\n",
      "\n"
     ]
    }
   ],
   "source": [
    "X_train, X_test, y_train, y_test = train_test_split( X, y, test_size=0.5, random_state=0)\n",
    "X_train = StandardScaler().fit_transform(X_train)\n",
    "X_test = StandardScaler().fit_transform(X_test)\n",
    "\n",
    "pipeline = Pipeline([\n",
    "    ('clf', LogisticRegression())\n",
    "])\n",
    "parameters= {'clf__penalty': ('l1','l2'),\n",
    "            'clf__C': (0.01, 0.1, 1, 10)}\n",
    "\n",
    "grid_search = GridSearchCV(pipeline, parameters, n_jobs=-1, scoring = 'f1')\n",
    "\n",
    "grid_search.fit(X_train, y_train)\n",
    "print ('Best score: %0.3f' % grid_search.best_score_)\n",
    "print ('Best parameter set:')\n",
    "best_parameters = grid_search.best_estimator_.get_params()\n",
    "\n",
    "for p in sorted(parameters.keys()):\n",
    "    print ('\\t%s: %r' % (p, best_parameters[p]))\n",
    "\n",
    "predictions = grid_search.predict(X_test)\n",
    "print (classification_report(y_test, predictions))"
   ]
  },
  {
   "cell_type": "code",
   "execution_count": null,
   "metadata": {},
   "outputs": [],
   "source": []
  }
 ],
 "metadata": {
  "kernelspec": {
   "display_name": "Python 3",
   "language": "python",
   "name": "python3"
  },
  "language_info": {
   "codemirror_mode": {
    "name": "ipython",
    "version": 3
   },
   "file_extension": ".py",
   "mimetype": "text/x-python",
   "name": "python",
   "nbconvert_exporter": "python",
   "pygments_lexer": "ipython3",
   "version": "3.7.4"
  }
 },
 "nbformat": 4,
 "nbformat_minor": 2
}
